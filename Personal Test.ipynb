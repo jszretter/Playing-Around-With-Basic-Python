{
 "cells": [
  {
   "cell_type": "code",
   "execution_count": 20,
   "id": "1517a6f7",
   "metadata": {},
   "outputs": [
    {
     "name": "stdout",
     "output_type": "stream",
     "text": [
      "What is your nameMe\n",
      "I don't know you, get out of here weirdo\n"
     ]
    }
   ],
   "source": [
    "userlist= [input(\"What is your name\"), \"test\"]\n",
    "\n",
    "if \"Jordyn Szretter\" in userlist:\n",
    "    print(\"Oh hey bitch how are things\")\n",
    "    \n",
    "else:\n",
    "    print(\"I don't know you, get out of here weirdo\")"
   ]
  },
  {
   "cell_type": "code",
   "execution_count": 25,
   "id": "33030d60",
   "metadata": {},
   "outputs": [
    {
     "name": "stdout",
     "output_type": "stream",
     "text": [
      "['Miko']\n"
     ]
    }
   ],
   "source": [
    "characterlisttest= [\"Miko\", \"Sapphire\", \"Mint Chip\"]\n",
    "\n",
    "testlist=[]\n",
    "for x in characterlisttest:\n",
    "    if \"o\" in x:\n",
    "        testlist.append(x)\n",
    "\n",
    "    \n",
    "print(testlist)"
   ]
  },
  {
   "cell_type": "code",
   "execution_count": null,
   "id": "9b5350c4",
   "metadata": {},
   "outputs": [],
   "source": []
  }
 ],
 "metadata": {
  "kernelspec": {
   "display_name": "Python 3 (ipykernel)",
   "language": "python",
   "name": "python3"
  },
  "language_info": {
   "codemirror_mode": {
    "name": "ipython",
    "version": 3
   },
   "file_extension": ".py",
   "mimetype": "text/x-python",
   "name": "python",
   "nbconvert_exporter": "python",
   "pygments_lexer": "ipython3",
   "version": "3.9.13"
  }
 },
 "nbformat": 4,
 "nbformat_minor": 5
}
