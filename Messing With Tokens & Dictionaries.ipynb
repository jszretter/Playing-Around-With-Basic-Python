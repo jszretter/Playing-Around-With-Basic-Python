{
 "cells": [
  {
   "cell_type": "code",
   "execution_count": 1,
   "id": "eab37289",
   "metadata": {},
   "outputs": [
    {
     "data": {
      "text/plain": [
       "['Would', 'ya', 'look', 'at', 'that,', \"I'm\", 'a', 'string!']"
      ]
     },
     "execution_count": 1,
     "metadata": {},
     "output_type": "execute_result"
    }
   ],
   "source": [
    "string1 = \"Would ya look at that, I'm a string!\"\n",
    "\n",
    "string1.split()"
   ]
  },
  {
   "cell_type": "code",
   "execution_count": 6,
   "id": "c483f1a0",
   "metadata": {},
   "outputs": [
    {
     "data": {
      "text/plain": [
       "\"W o u l d   y a   l o o k   a t   t h a t ,   I ' m   a   s t r i n g !\""
      ]
     },
     "execution_count": 6,
     "metadata": {},
     "output_type": "execute_result"
    }
   ],
   "source": [
    "\" \".join(string1)"
   ]
  },
  {
   "cell_type": "code",
   "execution_count": 9,
   "id": "7ab34a4a",
   "metadata": {},
   "outputs": [
    {
     "name": "stdout",
     "output_type": "stream",
     "text": [
      "please provide a username: jszretter\n",
      "write a short bio: the creator of this code :P\n"
     ]
    },
    {
     "data": {
      "text/plain": [
       "{'jszretter': 'the creator of this code :P'}"
      ]
     },
     "execution_count": 9,
     "metadata": {},
     "output_type": "execute_result"
    }
   ],
   "source": [
    "userbase = {}\n",
    "\n",
    "user_name = input(\"please provide a username: \")\n",
    "if user_name in userbase:\n",
    "    print(\"That username is already taken, please try again. \")\n",
    "    user_name = input(\"please provide a username: \")\n",
    "user_bio = input(\"write a short bio: \")\n",
    "\n",
    "userbase.update({user_name : user_bio})\n",
    "\n",
    "userbase"
   ]
  },
  {
   "cell_type": "code",
   "execution_count": 12,
   "id": "7ce44dab",
   "metadata": {},
   "outputs": [
    {
     "data": {
      "text/plain": [
       "['I ', 'onder ', 'hat ', 'ould happen if I tested this...']"
      ]
     },
     "execution_count": 12,
     "metadata": {},
     "output_type": "execute_result"
    }
   ],
   "source": [
    "string2 = \"I wonder what would happen if I tested this...\"\n",
    "\n",
    "string2.split(\"w\")"
   ]
  },
  {
   "cell_type": "code",
   "execution_count": null,
   "id": "8634ee46",
   "metadata": {},
   "outputs": [],
   "source": []
  }
 ],
 "metadata": {
  "kernelspec": {
   "display_name": "Python 3 (ipykernel)",
   "language": "python",
   "name": "python3"
  },
  "language_info": {
   "codemirror_mode": {
    "name": "ipython",
    "version": 3
   },
   "file_extension": ".py",
   "mimetype": "text/x-python",
   "name": "python",
   "nbconvert_exporter": "python",
   "pygments_lexer": "ipython3",
   "version": "3.9.13"
  }
 },
 "nbformat": 4,
 "nbformat_minor": 5
}
